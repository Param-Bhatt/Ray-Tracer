{
  "nbformat": 4,
  "nbformat_minor": 0,
  "metadata": {
    "colab": {
      "name": "RayTracer.ipynb",
      "provenance": [],
      "collapsed_sections": [],
      "authorship_tag": "ABX9TyMXQSsn/8cEdYWbskwHH77v",
      "include_colab_link": true
    },
    "kernelspec": {
      "name": "python3",
      "display_name": "Python 3"
    }
  },
  "cells": [
    {
      "cell_type": "markdown",
      "metadata": {
        "id": "view-in-github",
        "colab_type": "text"
      },
      "source": [
        "<a href=\"https://colab.research.google.com/github/Param-Bhatt/Ray-Tracer/blob/master/RayTracer.ipynb\" target=\"_parent\"><img src=\"https://colab.research.google.com/assets/colab-badge.svg\" alt=\"Open In Colab\"/></a>"
      ]
    },
    {
      "cell_type": "code",
      "metadata": {
        "id": "dfIhWpEyWsMQ",
        "colab_type": "code",
        "colab": {}
      },
      "source": [
        "import numpy as np\n",
        "import matplotlib.pyplot as plt"
      ],
      "execution_count": 0,
      "outputs": []
    },
    {
      "cell_type": "markdown",
      "metadata": {
        "id": "qgtQKpfydWWu",
        "colab_type": "text"
      },
      "source": [
        "Here we have defined the variables for the width and height of our viewing window , can change it accordingly"
      ]
    },
    {
      "cell_type": "code",
      "metadata": {
        "id": "eOEGoXHGXxt5",
        "colab_type": "code",
        "colab": {}
      },
      "source": [
        "w = 400\n",
        "h = 300"
      ],
      "execution_count": 0,
      "outputs": []
    },
    {
      "cell_type": "markdown",
      "metadata": {
        "id": "emMvHPGodfCH",
        "colab_type": "text"
      },
      "source": [
        "The normalize function of numpy is used to get the unit vector of the vector that we supply to it as an argument , here x."
      ]
    },
    {
      "cell_type": "code",
      "metadata": {
        "id": "vNWxr1TbX2TR",
        "colab_type": "code",
        "colab": {}
      },
      "source": [
        "def normalize(x):\n",
        "    x /= np.linalg.norm(x)\n",
        "    return x"
      ],
      "execution_count": 0,
      "outputs": []
    },
    {
      "cell_type": "markdown",
      "metadata": {
        "id": "mO0llvD6d5ny",
        "colab_type": "text"
      },
      "source": [
        "<li> O is our camera</li>\n",
        "<li> Q is the pixel at which our camera is pointing </li>\n",
        "<li> N is our normal vector of the plane</li>\n",
        "<li> D is our point of intersection with the plane. Hence OD will be ray directon here. </li>\n",
        "<li> P is our random point on the plane. The plane will be represented as P,N </li>"
      ]
    },
    {
      "cell_type": "code",
      "metadata": {
        "id": "Im3Qvvo0X4TA",
        "colab_type": "code",
        "colab": {}
      },
      "source": [
        "def intersect_plane(O, D, P, N):\n",
        "    # Return the distance from O to the intersection of the ray (O, D) with the \n",
        "    # plane (P, N), or +inf if there is no intersection.\n",
        "    # O and P are 3D points, D and N (normal) are normalized vectors.\n",
        "    denom = np.dot(D, N)\n",
        "    if np.abs(denom) < 1e-6:\n",
        "        return np.inf\n",
        "    d = np.dot(P - O, N) / denom\n",
        "    if d < 0:\n",
        "        return np.inf\n",
        "    return d"
      ],
      "execution_count": 0,
      "outputs": []
    },
    {
      "cell_type": "markdown",
      "metadata": {
        "id": "J97JaO_FgfZx",
        "colab_type": "text"
      },
      "source": [
        "<li>O is our camera (<i>Its a point</i>)</li>\n",
        "<li>D is the intersection point of the ray and sphere</li>\n",
        "<li>S is center of sphere</li>\n",
        "<li>R is is the radius of the sphere</li>\n",
        "\n",
        "This function gives us 2 points of intersection of the ray with our sphere"
      ]
    },
    {
      "cell_type": "code",
      "metadata": {
        "id": "y50WLoaaX7_Z",
        "colab_type": "code",
        "colab": {}
      },
      "source": [
        "def intersect_sphere(O, D, S, R):\n",
        "    # Return the distance from O to the intersection of the ray (O, D) with the \n",
        "    # sphere (S, R), or +inf if there is no intersection.\n",
        "    # O and S are 3D points, D (direction) is a normalized vector, R is a scalar.\n",
        "    a = np.dot(D, D) #dot product of D with itself, basically we get its magnitude\n",
        "    OS = O - S \n",
        "    b = 2 * np.dot(D, OS)\n",
        "    c = np.dot(OS, OS) - R * R\n",
        "    disc = b * b - 4 * a * c\n",
        "    if disc > 0:\n",
        "        distSqrt = np.sqrt(disc)\n",
        "        q = (-b - distSqrt) / 2.0 if b < 0 else (-b + distSqrt) / 2.0\n",
        "        t0 = q / a\n",
        "        t1 = c / q\n",
        "        t0, t1 = min(t0, t1), max(t0, t1)\n",
        "        if t1 >= 0:\n",
        "            return t1 if t0 < 0 else t0\n",
        "    return np.inf #returning infinity incase there is no point of intersection"
      ],
      "execution_count": 0,
      "outputs": []
    },
    {
      "cell_type": "markdown",
      "metadata": {
        "id": "7gONgEkhgf6x",
        "colab_type": "text"
      },
      "source": [
        "A function to segregate between intersection of the ray with our plane or with our image"
      ]
    },
    {
      "cell_type": "code",
      "metadata": {
        "id": "MHnqwXo2X9tR",
        "colab_type": "code",
        "colab": {}
      },
      "source": [
        "def intersect(O, D, obj):\n",
        "    if obj['type'] == 'plane':\n",
        "        return intersect_plane(O, D, obj['position'], obj['normal'])\n",
        "    elif obj['type'] == 'sphere':\n",
        "        return intersect_sphere(O, D, obj['position'], obj['radius'])"
      ],
      "execution_count": 0,
      "outputs": []
    },
    {
      "cell_type": "markdown",
      "metadata": {
        "id": "BIizq1RGggiF",
        "colab_type": "text"
      },
      "source": [
        "We love playing with normals here, hence this function is just for finding the unit normal of any given object.<br> We first check for the type of object from the object dictionary. \n",
        "<li>Since we stored the normal of the plane with the object itself, we can straight away give the normal to the plane.</li>\n",
        "<li>For sphere we normalise the ray from M to the center of our sphere , which then becomes our normal.\n",
        "</li>\n",
        "<li>M here is M = rayO + rayD * t , the equation we use to traverse across the intersection points of our objects with the rays\n",
        "</li>\n",
        "<li>N returned here is the unit normal of that respective object</li>"
      ]
    },
    {
      "cell_type": "code",
      "metadata": {
        "id": "xDDmsTm3X_jl",
        "colab_type": "code",
        "colab": {}
      },
      "source": [
        "def get_normal(obj, M):\n",
        "    # Find normal.\n",
        "    if obj['type'] == 'sphere':\n",
        "        N = normalize(M - obj['position'])\n",
        "    elif obj['type'] == 'plane':\n",
        "        N = obj['normal']\n",
        "    return N"
      ],
      "execution_count": 0,
      "outputs": []
    },
    {
      "cell_type": "markdown",
      "metadata": {
        "id": "1dISPHBoghBQ",
        "colab_type": "text"
      },
      "source": [
        "This function is used for choosing the color and making any changes to it whatsoever required. Based on the object , we assign it the colour.\n",
        "<li>M here is M = rayO + rayD * t , the equation we use to traverse across the intersection points of our objects with the rays.\n",
        "</li>\n",
        "<li> Color returned is the color of the object in question , and this is what we will paint it with . </li>"
      ]
    },
    {
      "cell_type": "code",
      "metadata": {
        "id": "5QijprYEYDVl",
        "colab_type": "code",
        "colab": {}
      },
      "source": [
        "def get_color(obj, M):\n",
        "    color = obj['color']\n",
        "    if not hasattr(color, '__len__'):\n",
        "        color = color(M)\n",
        "    return color"
      ],
      "execution_count": 0,
      "outputs": []
    },
    {
      "cell_type": "markdown",
      "metadata": {
        "id": "pGPrY8ebghny",
        "colab_type": "text"
      },
      "source": [
        "<h3>The function arguments</h3>\n",
        "<li>rayO is the ray origin . This will be the starting point of our ray from which we will make the ray</li>\n",
        "<li>rayD is the ray direction. From the ray origin, the ray will pass through the center of the pixel that we will be looking at. The ray in this direction will be labelled as rayD</li>\n",
        "<h3>Find the point of intersection with the scene</h3>\n",
        "<li>The enumerate function is used to go through the entire scene, it adds a counter to it's function arguments and hence ,we can iterate through the entire scene in one loop. </li>\n",
        "<li>We supply ray origin and raydir and find out the intersection point , and then store them in t_obj. Since we intialised t to infinity, if we get any intersection point , we will store it along with the index to remember it in the future.</li>\n",
        "<li>Once we exit the loop , we check if t is still infinity. If it is , that means there are no intersection points and hence we return null value , or the background color.</li>\n",
        "<li>The line \"obj = scene[obj_idx]\" means that we take the object. the object index will tell us which one it is , in this case , whether its sphere#1,#2,#3 or the plane. We store this value in obj.\n",
        "<li>To traverse through the intersection point, we start at ray origin, and then traverse t distance ( t is the intersection point ) in ray dir. Its a scalar*vector multiplication .\n",
        "<li>Then we get the properties of object , namely , it's normal to the intersection point and it's color.\n",
        "<li>toL and toO are our normalised vectors. toL is the vector from M to L (<i>L is our light source ki position)</i>. toO is the vector from M to O <i>(O is the position of our camera)</i>\n",
        "<h3>Game of Shadows</h3>\n",
        "<li>This time , we start moving from M. This will be our reflected ray , so this time our ray origin becomes M. However , to avoid code being messy and all , we carry on with M as our new ray origin.\n",
        "<li> Since N is the normal , this is our new ray dir. Why is it so? Coz after light hits a point , it is always going to be reflected in the direction of the normal from the center to the point of intersection, the 90degree angle change will happen. We are ignoring diffused reflection here , only normal reflection is being considered.\n",
        "<li>Again we iterate through all the elements of the scene and check for their intersection. If there <i>are no intersections</i> , then we can <i>light</i> the pixel with suitable color. However, if there <i>are one or more intersections </i> , then <i>we cast a shadow on it </i>.\n",
        "<li>Coloring time....yaay \n",
        "<br>Default light and material parameters.<br>\n",
        "&nbsp&nbsp&nbsp&nbsp&nbsp&nbsp ambient = .05<br>\n",
        "&nbsp&nbsp&nbsp&nbsp&nbsp&nbsp diffuse_c = 1.<br>\n",
        "&nbsp&nbsp&nbsp&nbsp&nbsp&nbsp specular_c = 1.<br>\n",
        "&nbsp&nbsp&nbsp&nbsp&nbsp&nbsp specular_k = 50<br>\n"
      ]
    },
    {
      "cell_type": "code",
      "metadata": {
        "id": "Kh36xsuxYGBB",
        "colab_type": "code",
        "colab": {}
      },
      "source": [
        "def trace_ray(rayO, rayD):\n",
        "    # Find first point of intersection with the scene.\n",
        "    t = np.inf\n",
        "    for i, obj in enumerate(scene):\n",
        "        t_obj = intersect(rayO, rayD, obj)\n",
        "        if t_obj < t:\n",
        "            t, obj_idx = t_obj, i\n",
        "    # Return None if the ray does not intersect any object.\n",
        "    if t == np.inf:\n",
        "        return\n",
        "    # Find the object.\n",
        "    obj = scene[obj_idx]\n",
        "    # Find the point of intersection on the object.\n",
        "    M = rayO + rayD * t #traverse to the intersection points\n",
        "    # Find properties of the object.\n",
        "    N = get_normal(obj, M)\n",
        "    color = get_color(obj, M)\n",
        "    toL = normalize(L - M)\n",
        "    toO = normalize(O - M)\n",
        "    # Shadow: find if the point is shadowed or not.\n",
        "    l = [intersect(M + N * .0001, toL, obj_sh) \n",
        "            for k, obj_sh in enumerate(scene) if k != obj_idx]\n",
        "    if l and min(l) < np.inf:\n",
        "        return\n",
        "    # Start computing the color.\n",
        "    col_ray = ambient\n",
        "    # Lambert shading (diffuse).\n",
        "    col_ray += obj.get('diffuse_c', diffuse_c) * max(np.dot(N, toL), 0) * color\n",
        "    # Blinn-Phong shading (specular).\n",
        "    col_ray += obj.get('specular_c', specular_c) * max(np.dot(N, normalize(toL + toO)), 0) ** specular_k * color_light\n",
        "    return obj, M, N, col_ray"
      ],
      "execution_count": 0,
      "outputs": []
    },
    {
      "cell_type": "markdown",
      "metadata": {
        "id": "-PJtffQee699",
        "colab_type": "text"
      },
      "source": [
        "The add_sphere function adds a sphere as a dictionary along with its position , radius , color and reflectivity<br>\n",
        "The parameters of each sphere are : \n",
        "<li>Type is sphere</li>\n",
        "<li>Position <i>(maybe the centre, an assumption of Param)</i></li>\n",
        "<li>Radius of the sphere</li>\n",
        "<li>Color of the sphere</li>\n",
        "<li>Reflection by the sphere </li>\n"
      ]
    },
    {
      "cell_type": "code",
      "metadata": {
        "id": "DvCPU1DfYIAn",
        "colab_type": "code",
        "colab": {}
      },
      "source": [
        "def add_sphere(position, radius, color):\n",
        "    return dict(type='sphere', position=np.array(position), \n",
        "        radius=np.array(radius), color=np.array(color), reflection=.5)"
      ],
      "execution_count": 0,
      "outputs": []
    },
    {
      "cell_type": "markdown",
      "metadata": {
        "id": "1_a5V7LgfK24",
        "colab_type": "text"
      },
      "source": [
        "add_plane function will add our chess type plane here. the color is chosen on the basis of even odd from the starting , rest all values are set at a default\n",
        "<br>The parameters of the plane are : \n",
        "<li> A type plane </li>\n",
        "<li> A position </li>\n",
        "<li> A normal </li>\n",
        "<li> The colour , as intermitting black and white squares </li>\n",
        "<li> Diffuse_color </li>\n",
        "<li> Specular_color</li>\n",
        "<li> Reflection</li>"
      ]
    },
    {
      "cell_type": "code",
      "metadata": {
        "id": "DcZ3wNqAYKOF",
        "colab_type": "code",
        "colab": {}
      },
      "source": [
        "def add_plane(position, normal):\n",
        "    return dict(type='plane', position=np.array(position), \n",
        "        normal=np.array(normal),\n",
        "        color=lambda M: (color_plane0 \n",
        "            if (int(M[0] * 2) % 2) == (int(M[2] * 2) % 2) else color_plane1),\n",
        "        diffuse_c=.75, specular_c=.5, reflection=.25)    "
      ],
      "execution_count": 0,
      "outputs": []
    },
    {
      "cell_type": "markdown",
      "metadata": {
        "id": "Baq6Ir2egbaJ",
        "colab_type": "text"
      },
      "source": [
        "We start out by defining our objects. color_plane0 and color_plane1 are 3x1 matrices consisting of 1 and 0 respectively. We then add 3 spheres and a ground to our scene."
      ]
    },
    {
      "cell_type": "code",
      "metadata": {
        "id": "YZ1oGuJlYMdp",
        "colab_type": "code",
        "colab": {}
      },
      "source": [
        "# List of objects.\n",
        "color_plane0 = 1. * np.ones(3)\n",
        "color_plane1 = 0. * np.ones(3)\n",
        "scene = [add_sphere([.75, .1, 1.], .6, [0., 0., 1.]),\n",
        "         add_sphere([-.75, .1, 2.25], .6, [.5, .223, .5]),\n",
        "         add_sphere([-2.75, .1, 3.5], .6, [1., .572, .184]),\n",
        "         add_plane([0., -.5, 0.], [0., 1., 0.]),\n",
        "    ]\n"
      ],
      "execution_count": 0,
      "outputs": []
    },
    {
      "cell_type": "markdown",
      "metadata": {
        "id": "xcB1gvVmgcxE",
        "colab_type": "text"
      },
      "source": [
        "We start of with light positioned at (5,5,-10). Z-coordinate is negative , hence the light point is <u>behind us into the screen</u>. The color is initalised to (1,1,1) which is white. <br>\n",
        "The default parameters are intialised accordingly.\n",
        "<ol>All are initialised to x,y,z coordinates here:\n",
        "<li> O is our camera . </li>\n",
        "    <li> Q is the pixel where our camera is pointing at.</li>\n",
        "    <li>We initialise imgage of shape 300*400 here , and each pixel will be a 3d array consisting of all 3 coordiantes.</li>"
      ]
    },
    {
      "cell_type": "code",
      "metadata": {
        "id": "_sX8D1uxYPSr",
        "colab_type": "code",
        "colab": {}
      },
      "source": [
        "# Light position and color.\n",
        "L = np.array([5., 5., -10.])\n",
        "color_light = np.ones(3)\n",
        "\n",
        "# Default light and material parameters.\n",
        "ambient = .05\n",
        "diffuse_c = 1.\n",
        "specular_c = 1.\n",
        "specular_k = 50\n",
        "\n",
        "depth_max = 5  # Maximum number of light reflections.\n",
        "col = np.zeros(3)  # Current color.\n",
        "O = np.array([0., 0.35, -1.])  # Camera.\n",
        "Q = np.array([0., 0., 0.])  # Camera pointing to.\n",
        "img = np.zeros((h, w, 3)) # Image window"
      ],
      "execution_count": 0,
      "outputs": []
    },
    {
      "cell_type": "markdown",
      "metadata": {
        "id": "DCs0gZ-zgdun",
        "colab_type": "text"
      },
      "source": [
        "<li>Aspect ratio : 'r' is our aspect ratio .\n",
        "<li> We start off from screen coordinates x0,y0,x1,y1 and traverse through the entire screen.\n",
        "<li>np.linspace is used for iterating through a lot of values.<i>(For more information , go : <a href=\"https://www.geeksforgeeks.org/numpy-linspace-python/\"> here</a>)</i>. Speaking in layman terms, we iterate through the entire scene, the first loop is for going along width and the nested loop is for going along the height.\n",
        "<li>we initialise the entire column arrays to 0 and the first 2 elements of the Q array to x and y co-ordinates.\n",
        "<li>D is the unit vector from Q to 0. \n",
        "<li> We are starting with depth 0. The more depth we can keep , the better our resulting image will be. However , it is computationally heavy , so we have kept it at depth 5.\n",
        "<li> We set the ray origin to be the graphical origin (0,0,0) and ray direction to be the respective x and y of the particular pixel we are investigating. \n",
        "<li> We have kept reflection to 1 , which means that reflection is there.\n",
        "<li> Our function trace_ray returns the object, its intersection point with the current ray , the normal from the center (<i>position</i>) of our object to the point and the color of the particular pixel.<b><br>If it does not return anything, it means there is no pixel to be coloured , and hence should be same as the background scene </b>\n",
        "<li>Once traced the ray , we assign those values from the traced data type into our variables here. \n",
        "<li> Now we go towards reflection. Just like in the reflection , we take ray origin and ray direction as M+N*xxx and unit vector in the normal directio respectively.\n",
        "<li> We multiply and add the color multiplied with reflection to get a different color accordingly as per the lighting required. Then we store this value in reflection variable for future use.\n",
        "<li> Finally after all the loops are over , we store the information gathered in image , height-width wise from the col array so that we can later print it out on the screen, or save it as required.\n"
      ]
    },
    {
      "cell_type": "code",
      "metadata": {
        "id": "4VE-kWEyYeLH",
        "colab_type": "code",
        "colab": {}
      },
      "source": [
        "r = float(w) / h #we get the aspect ratio as 'r'\n",
        "# Screen coordinates: x0, y0, x1, y1.\n",
        "S = (-1., -1. / r + .25, 1., 1. / r + .25)\n",
        "\n",
        "# Loop through all pixels.\n",
        "for i, x in enumerate(np.linspace(S[0], S[2], w)):\n",
        "    for j, y in enumerate(np.linspace(S[1], S[3], h)):\n",
        "        col[:] = 0\n",
        "        Q[:2] = (x, y)\n",
        "        D = normalize(Q - O)\n",
        "        depth = 0\n",
        "        rayO, rayD = O, D\n",
        "        reflection = 1.\n",
        "        # Loop through initial and secondary rays.\n",
        "        while depth < depth_max:\n",
        "            traced = trace_ray(rayO, rayD)\n",
        "            if not traced:\n",
        "                break\n",
        "            obj, M, N, col_ray = traced\n",
        "            # Reflection: create a new ray.\n",
        "            rayO, rayD = M + N * .0001, normalize(rayD - 2 * np.dot(rayD, N) * N)\n",
        "            depth += 1\n",
        "            col += reflection * col_ray\n",
        "            reflection *= obj.get('reflection', 1.)\n",
        "        img[h - j - 1, i, :] = np.clip(col, 0, 1)"
      ],
      "execution_count": 0,
      "outputs": []
    },
    {
      "cell_type": "markdown",
      "metadata": {
        "id": "2xUWSbJZenCu",
        "colab_type": "text"
      },
      "source": [
        "Finally showing the image using the image show function of matlplotlib"
      ]
    },
    {
      "cell_type": "code",
      "metadata": {
        "id": "UkmO0hLQYqeX",
        "colab_type": "code",
        "colab": {
          "base_uri": "https://localhost:8080/",
          "height": 286
        },
        "outputId": "d7c64a24-8de5-49a9-d1d0-c3eb5c9dfd6a"
      },
      "source": [
        "plt.imshow(img)"
      ],
      "execution_count": 49,
      "outputs": [
        {
          "output_type": "execute_result",
          "data": {
            "text/plain": [
              "<matplotlib.image.AxesImage at 0x7fde4f52f400>"
            ]
          },
          "metadata": {
            "tags": []
          },
          "execution_count": 49
        },
        {
          "output_type": "display_data",
          "data": {
            "image/png": "[encoded data removed]",
            "text/plain": [
              "<Figure size 432x288 with 1 Axes>"
            ]
          },
          "metadata": {
            "tags": [],
            "needs_background": "light"
          }
        }
      ]
    }
  ]
}